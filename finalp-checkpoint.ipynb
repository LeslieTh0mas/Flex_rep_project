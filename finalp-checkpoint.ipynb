{
 "cells": [
  {
   "cell_type": "code",
   "execution_count": 17,
   "id": "94284630",
   "metadata": {},
   "outputs": [],
   "source": [
    "#import pandas\n",
    "import matplotlib.pyplot as plt\n",
    "import pandas as pd\n",
    "import numpy"
   ]
  },
  {
   "cell_type": "code",
   "execution_count": 6,
   "id": "aee40c46",
   "metadata": {
    "scrolled": true
   },
   "outputs": [],
   "source": [
    "#Read in data from a local csv, excel file, json, or any other file type.\n",
    "# read in data with pandas and store as object\n",
    "df = pd.read_excel('C:\\\\Users\\\\15134\\\\Desktop\\\\Final Project\\\\Assets\\\\rep_flex.xlsx')"
   ]
  },
  {
   "cell_type": "code",
   "execution_count": 7,
   "id": "96e42dc5",
   "metadata": {},
   "outputs": [
    {
     "name": "stdout",
     "output_type": "stream",
     "text": [
      "    job_function associate_name trained quality speed  trainer manager  \\\n",
      "0     mantenance           beth       y       y     n   little  harris   \n",
      "1     mantenance          diane       y       y     y   little  harris   \n",
      "2     mantenance          carol       y       y     y   little  harris   \n",
      "3     mantenance            jon       y       y     y   little   brown   \n",
      "4     mantenance        mellisa       y       y     y   little   brown   \n",
      "5     mantenance          randy       y       y     y  charles   brown   \n",
      "6       money_in           beth       y       n     n  walters  harris   \n",
      "7       money_in          diane       y       y     y   little  harris   \n",
      "8       money_in          carol       n      na    na       na  harris   \n",
      "9       money_in            jon       y       y     y  walters   brown   \n",
      "10      money_in        mellisa       y       y     y   little   brown   \n",
      "11      money_in          randy       y       y     y   little   brown   \n",
      "12  transfer_out           beth       n      na    na       na  harris   \n",
      "13  transfer_out          diane       n      na    na       na  harris   \n",
      "14  transfer_out          carol       n      na    na       na  harris   \n",
      "15  transfer_out            jon       n      na    na       na   brown   \n",
      "16  transfer_out        mellisa       y       y     y   little   brown   \n",
      "17  transfer_out          randy       y       y     y   little   brown   \n",
      "18  new_accounts           beth       y       y     y  wilburs  harris   \n",
      "19  new_accounts          diane       y       y     n  wilburs  harris   \n",
      "20  new_accounts          carol       n      na    na       na  harris   \n",
      "21  new_accounts            jon       n      na    na       na   brown   \n",
      "22  new_accounts        mellisa       n      na    na       na   brown   \n",
      "23  new_accounts          randy       y       y     y   little   brown   \n",
      "24       central           beth       n      na    na       na  harris   \n",
      "25       central          diane       n      na    na       na  harris   \n",
      "26       central          carol       n      na    na       na  harris   \n",
      "27       central            jon       n      na    na       na   brown   \n",
      "28       central        mellisa       y       y     y   little   brown   \n",
      "29       central          randy       n      na    na       na   brown   \n",
      "30      classify           beth       y       y     y   little  harris   \n",
      "31      classify          diane       y       y     y   little  harris   \n",
      "32      classify          carol       n      na    na       na  harris   \n",
      "33      classify            jon       n      na    na       na   brown   \n",
      "34      classify        mellisa       n      na    na       na   brown   \n",
      "35      classify          randy       n      na    na       na   brown   \n",
      "\n",
      "      manager_email city  training_hours  \n",
      "0   harris@work.com  cvg              10  \n",
      "1   harris@work.com  cvg              52  \n",
      "2   harris@work.com  cvg              25  \n",
      "3    brown@work.com  abq              55  \n",
      "4    brown@work.com  abq              71  \n",
      "5    brown@work.com  abq              84  \n",
      "6   harris@work.com  cvg              44  \n",
      "7   harris@work.com  cvg              25  \n",
      "8   harris@work.com  cvg               0  \n",
      "9    brown@work.com  abq              42  \n",
      "10   brown@work.com  abq              46  \n",
      "11   brown@work.com  abq              11  \n",
      "12  harris@work.com  cvg               0  \n",
      "13  harris@work.com  cvg               0  \n",
      "14  harris@work.com  cvg               0  \n",
      "15   brown@work.com  abq               0  \n",
      "16   brown@work.com  abq              51  \n",
      "17   brown@work.com  abq              58  \n",
      "18  harris@work.com  cvg              25  \n",
      "19  harris@work.com  cvg               8  \n",
      "20  harris@work.com  cvg               0  \n",
      "21   brown@work.com  abq               0  \n",
      "22   brown@work.com  abq               0  \n",
      "23   brown@work.com  abq              29  \n",
      "24  harris@work.com  cvg               0  \n",
      "25  harris@work.com  cvg               0  \n",
      "26  harris@work.com  cvg               0  \n",
      "27   brown@work.com  abq               0  \n",
      "28   brown@work.com  abq              44  \n",
      "29   brown@work.com  abq               0  \n",
      "30  harris@work.com  cvg              89  \n",
      "31  harris@work.com  cvg             102  \n",
      "32  harris@work.com  cvg               0  \n",
      "33   brown@work.com  abq               0  \n",
      "34   brown@work.com  abq               0  \n",
      "35   brown@work.com  abq               0  \n"
     ]
    }
   ],
   "source": [
    "#print df \n",
    "print (df)"
   ]
  },
  {
   "cell_type": "code",
   "execution_count": 8,
   "id": "3a4466a8",
   "metadata": {},
   "outputs": [
    {
     "name": "stdout",
     "output_type": "stream",
     "text": [
      "    job_function associate_name trained quality speed  trainer manager  \\\n",
      "0     mantenance           beth       y       y     n   little  harris   \n",
      "1     mantenance          diane       y       y     y   little  harris   \n",
      "2     mantenance          carol       y       y     y   little  harris   \n",
      "3     mantenance            jon       y       y     y   little   brown   \n",
      "4     mantenance        mellisa       y       y     y   little   brown   \n",
      "5     mantenance          randy       y       y     y  charles   brown   \n",
      "6       money_in           beth       y       n     n  walters  harris   \n",
      "7       money_in          diane       y       y     y   little  harris   \n",
      "9       money_in            jon       y       y     y  walters   brown   \n",
      "10      money_in        mellisa       y       y     y   little   brown   \n",
      "11      money_in          randy       y       y     y   little   brown   \n",
      "16  transfer_out        mellisa       y       y     y   little   brown   \n",
      "17  transfer_out          randy       y       y     y   little   brown   \n",
      "18  new_accounts           beth       y       y     y  wilburs  harris   \n",
      "19  new_accounts          diane       y       y     n  wilburs  harris   \n",
      "23  new_accounts          randy       y       y     y   little   brown   \n",
      "28       central        mellisa       y       y     y   little   brown   \n",
      "30      classify           beth       y       y     y   little  harris   \n",
      "31      classify          diane       y       y     y   little  harris   \n",
      "\n",
      "      manager_email city  training_hours  \n",
      "0   harris@work.com  cvg              10  \n",
      "1   harris@work.com  cvg              52  \n",
      "2   harris@work.com  cvg              25  \n",
      "3    brown@work.com  abq              55  \n",
      "4    brown@work.com  abq              71  \n",
      "5    brown@work.com  abq              84  \n",
      "6   harris@work.com  cvg              44  \n",
      "7   harris@work.com  cvg              25  \n",
      "9    brown@work.com  abq              42  \n",
      "10   brown@work.com  abq              46  \n",
      "11   brown@work.com  abq              11  \n",
      "16   brown@work.com  abq              51  \n",
      "17   brown@work.com  abq              58  \n",
      "18  harris@work.com  cvg              25  \n",
      "19  harris@work.com  cvg               8  \n",
      "23   brown@work.com  abq              29  \n",
      "28   brown@work.com  abq              44  \n",
      "30  harris@work.com  cvg              89  \n",
      "31  harris@work.com  cvg             102  \n"
     ]
    }
   ],
   "source": [
    "#Use built-in pandas or numpy functions to do things like remove 0’s and null values where they don’t belong in your dataset. \n",
    "#clean data\n",
    "#this will assure tath asslociates that are not trained with not be considered for this job juntion\n",
    "df = df.drop (df[df.training_hours < 1 ].index)\n",
    "print (df)"
   ]
  },
  {
   "cell_type": "code",
   "execution_count": 15,
   "id": "ca6642e3",
   "metadata": {},
   "outputs": [
    {
     "name": "stdout",
     "output_type": "stream",
     "text": [
      "    job_function associate_name trained quality speed  trainer manager  \\\n",
      "1     mantenance          diane       y       y     y   little  harris   \n",
      "2     mantenance          carol       y       y     y   little  harris   \n",
      "3     mantenance            jon       y       y     y   little   brown   \n",
      "4     mantenance        mellisa       y       y     y   little   brown   \n",
      "5     mantenance          randy       y       y     y  charles   brown   \n",
      "7       money_in          diane       y       y     y   little  harris   \n",
      "9       money_in            jon       y       y     y  walters   brown   \n",
      "10      money_in        mellisa       y       y     y   little   brown   \n",
      "11      money_in          randy       y       y     y   little   brown   \n",
      "16  transfer_out        mellisa       y       y     y   little   brown   \n",
      "17  transfer_out          randy       y       y     y   little   brown   \n",
      "18  new_accounts           beth       y       y     y  wilburs  harris   \n",
      "23  new_accounts          randy       y       y     y   little   brown   \n",
      "28       central        mellisa       y       y     y   little   brown   \n",
      "30      classify           beth       y       y     y   little  harris   \n",
      "31      classify          diane       y       y     y   little  harris   \n",
      "\n",
      "      manager_email city  training_hours  \n",
      "1   harris@work.com  cvg              52  \n",
      "2   harris@work.com  cvg              25  \n",
      "3    brown@work.com  abq              55  \n",
      "4    brown@work.com  abq              71  \n",
      "5    brown@work.com  abq              84  \n",
      "7   harris@work.com  cvg              25  \n",
      "9    brown@work.com  abq              42  \n",
      "10   brown@work.com  abq              46  \n",
      "11   brown@work.com  abq              11  \n",
      "16   brown@work.com  abq              51  \n",
      "17   brown@work.com  abq              58  \n",
      "18  harris@work.com  cvg              25  \n",
      "23   brown@work.com  abq              29  \n",
      "28   brown@work.com  abq              44  \n",
      "30  harris@work.com  cvg              89  \n",
      "31  harris@work.com  cvg             102  \n"
     ]
    }
   ],
   "source": [
    "#list of associats that meet speed metrics\n",
    "#narrows down to associates that are successful in process\n",
    "df = df.drop (df[df.speed == \"n\" ].index)\n",
    "print (df)"
   ]
  },
  {
   "cell_type": "code",
   "execution_count": 16,
   "id": "d77466b4",
   "metadata": {},
   "outputs": [
    {
     "name": "stdout",
     "output_type": "stream",
     "text": [
      "    job_function associate_name trained quality speed  trainer manager  \\\n",
      "1     mantenance          diane       y       y     y   little  harris   \n",
      "3     mantenance            jon       y       y     y   little   brown   \n",
      "4     mantenance        mellisa       y       y     y   little   brown   \n",
      "5     mantenance          randy       y       y     y  charles   brown   \n",
      "9       money_in            jon       y       y     y  walters   brown   \n",
      "10      money_in        mellisa       y       y     y   little   brown   \n",
      "16  transfer_out        mellisa       y       y     y   little   brown   \n",
      "17  transfer_out          randy       y       y     y   little   brown   \n",
      "28       central        mellisa       y       y     y   little   brown   \n",
      "30      classify           beth       y       y     y   little  harris   \n",
      "31      classify          diane       y       y     y   little  harris   \n",
      "\n",
      "      manager_email city  training_hours  \n",
      "1   harris@work.com  cvg              52  \n",
      "3    brown@work.com  abq              55  \n",
      "4    brown@work.com  abq              71  \n",
      "5    brown@work.com  abq              84  \n",
      "9    brown@work.com  abq              42  \n",
      "10   brown@work.com  abq              46  \n",
      "16   brown@work.com  abq              51  \n",
      "17   brown@work.com  abq              58  \n",
      "28   brown@work.com  abq              44  \n",
      "30  harris@work.com  cvg              89  \n",
      "31  harris@work.com  cvg             102  \n"
     ]
    }
   ],
   "source": [
    "#list of associates that are trained, meet quality standards, meet map for speed, had have 30 hours of experience\n",
    "df = df.drop (df[df.training_hours <= 30 ].index)\n",
    "print (df)"
   ]
  },
  {
   "cell_type": "code",
   "execution_count": 32,
   "id": "b347de6a",
   "metadata": {},
   "outputs": [],
   "source": [
    "varNew = var = pd.read_excel('C:\\\\Users\\\\15134\\\\Desktop\\\\Final Project\\\\Assets\\\\rep_flex.xlsx')\n",
    "var = pd.read_excel('C:\\\\Users\\\\15134\\\\Desktop\\\\Final Project\\\\Assets\\\\rep_flex.xlsx')\n",
    "varNew = var[['trainer']]\n",
    "varNew.head()\n",
    "plt.show()"
   ]
  }
 ],
 "metadata": {
  "kernelspec": {
   "display_name": "Python 3.9.12",
   "language": "python",
   "name": "python3"
  },
  "language_info": {
   "codemirror_mode": {
    "name": "ipython",
    "version": 3
   },
   "file_extension": ".py",
   "mimetype": "text/x-python",
   "name": "python",
   "nbconvert_exporter": "python",
   "pygments_lexer": "ipython3",
   "version": "3.9.12"
  },
  "vscode": {
   "interpreter": {
    "hash": "f473e8acccb8e3ecfbd454814672d3f3c26b19dc344346155026e10ff629e705"
   }
  }
 },
 "nbformat": 4,
 "nbformat_minor": 5
}
