{
 "cells": [
  {
   "cell_type": "code",
   "execution_count": 22,
   "id": "2b2ddcdb",
   "metadata": {},
   "outputs": [
    {
     "name": "stdout",
     "output_type": "stream",
     "text": [
      "Requirement already satisfied: notebook in c:\\users\\ineed\\appdata\\local\\programs\\python\\python311\\lib\\site-packages (6.5.2)\n",
      "Requirement already satisfied: jinja2 in c:\\users\\ineed\\appdata\\local\\programs\\python\\python311\\lib\\site-packages (from notebook) (3.1.2)\n",
      "Requirement already satisfied: tornado>=6.1 in c:\\users\\ineed\\appdata\\roaming\\python\\python311\\site-packages (from notebook) (6.2)\n",
      "Requirement already satisfied: pyzmq>=17 in c:\\users\\ineed\\appdata\\roaming\\python\\python311\\site-packages (from notebook) (24.0.1)\n",
      "Requirement already satisfied: argon2-cffi in c:\\users\\ineed\\appdata\\local\\programs\\python\\python311\\lib\\site-packages (from notebook) (21.3.0)\n",
      "Requirement already satisfied: traitlets>=4.2.1 in c:\\users\\ineed\\appdata\\roaming\\python\\python311\\site-packages (from notebook) (5.5.0)\n",
      "Requirement already satisfied: jupyter-core>=4.6.1 in c:\\users\\ineed\\appdata\\roaming\\python\\python311\\site-packages (from notebook) (5.0.0)\n",
      "Requirement already satisfied: jupyter-client>=5.3.4 in c:\\users\\ineed\\appdata\\roaming\\python\\python311\\site-packages (from notebook) (7.4.5)\n",
      "Requirement already satisfied: ipython-genutils in c:\\users\\ineed\\appdata\\local\\programs\\python\\python311\\lib\\site-packages (from notebook) (0.2.0)\n",
      "Requirement already satisfied: nbformat in c:\\users\\ineed\\appdata\\local\\programs\\python\\python311\\lib\\site-packages (from notebook) (5.7.0)\n",
      "Requirement already satisfied: nbconvert>=5 in c:\\users\\ineed\\appdata\\local\\programs\\python\\python311\\lib\\site-packages (from notebook) (7.2.4)\n",
      "Requirement already satisfied: nest-asyncio>=1.5 in c:\\users\\ineed\\appdata\\roaming\\python\\python311\\site-packages (from notebook) (1.5.6)\n",
      "Requirement already satisfied: ipykernel in c:\\users\\ineed\\appdata\\roaming\\python\\python311\\site-packages (from notebook) (6.17.1)\n",
      "Requirement already satisfied: Send2Trash>=1.8.0 in c:\\users\\ineed\\appdata\\local\\programs\\python\\python311\\lib\\site-packages (from notebook) (1.8.0)\n",
      "Requirement already satisfied: terminado>=0.8.3 in c:\\users\\ineed\\appdata\\local\\programs\\python\\python311\\lib\\site-packages (from notebook) (0.17.0)\n",
      "Requirement already satisfied: prometheus-client in c:\\users\\ineed\\appdata\\local\\programs\\python\\python311\\lib\\site-packages (from notebook) (0.15.0)\n",
      "Requirement already satisfied: nbclassic>=0.4.7 in c:\\users\\ineed\\appdata\\local\\programs\\python\\python311\\lib\\site-packages (from notebook) (0.4.8)\n",
      "Requirement already satisfied: entrypoints in c:\\users\\ineed\\appdata\\roaming\\python\\python311\\site-packages (from jupyter-client>=5.3.4->notebook) (0.4)\n",
      "Requirement already satisfied: python-dateutil>=2.8.2 in c:\\users\\ineed\\appdata\\roaming\\python\\python311\\site-packages (from jupyter-client>=5.3.4->notebook) (2.8.2)\n",
      "Requirement already satisfied: platformdirs in c:\\users\\ineed\\appdata\\roaming\\python\\python311\\site-packages (from jupyter-core>=4.6.1->notebook) (2.5.3)\n",
      "Requirement already satisfied: pywin32>=1.0 in c:\\users\\ineed\\appdata\\roaming\\python\\python311\\site-packages (from jupyter-core>=4.6.1->notebook) (305)\n",
      "Requirement already satisfied: jupyter-server>=1.8 in c:\\users\\ineed\\appdata\\local\\programs\\python\\python311\\lib\\site-packages (from nbclassic>=0.4.7->notebook) (1.23.1)\n",
      "Requirement already satisfied: notebook-shim>=0.1.0 in c:\\users\\ineed\\appdata\\local\\programs\\python\\python311\\lib\\site-packages (from nbclassic>=0.4.7->notebook) (0.2.2)\n",
      "Requirement already satisfied: beautifulsoup4 in c:\\users\\ineed\\appdata\\local\\programs\\python\\python311\\lib\\site-packages (from nbconvert>=5->notebook) (4.11.1)\n",
      "Requirement already satisfied: bleach in c:\\users\\ineed\\appdata\\local\\programs\\python\\python311\\lib\\site-packages (from nbconvert>=5->notebook) (5.0.1)\n",
      "Requirement already satisfied: defusedxml in c:\\users\\ineed\\appdata\\local\\programs\\python\\python311\\lib\\site-packages (from nbconvert>=5->notebook) (0.7.1)\n",
      "Requirement already satisfied: jupyterlab-pygments in c:\\users\\ineed\\appdata\\local\\programs\\python\\python311\\lib\\site-packages (from nbconvert>=5->notebook) (0.2.2)\n",
      "Requirement already satisfied: markupsafe>=2.0 in c:\\users\\ineed\\appdata\\local\\programs\\python\\python311\\lib\\site-packages (from nbconvert>=5->notebook) (2.1.1)\n",
      "Requirement already satisfied: mistune<3,>=2.0.3 in c:\\users\\ineed\\appdata\\local\\programs\\python\\python311\\lib\\site-packages (from nbconvert>=5->notebook) (2.0.4)\n",
      "Requirement already satisfied: nbclient>=0.5.0 in c:\\users\\ineed\\appdata\\local\\programs\\python\\python311\\lib\\site-packages (from nbconvert>=5->notebook) (0.7.0)\n",
      "Requirement already satisfied: packaging in c:\\users\\ineed\\appdata\\roaming\\python\\python311\\site-packages (from nbconvert>=5->notebook) (21.3)\n",
      "Requirement already satisfied: pandocfilters>=1.4.1 in c:\\users\\ineed\\appdata\\local\\programs\\python\\python311\\lib\\site-packages (from nbconvert>=5->notebook) (1.5.0)\n",
      "Requirement already satisfied: pygments>=2.4.1 in c:\\users\\ineed\\appdata\\roaming\\python\\python311\\site-packages (from nbconvert>=5->notebook) (2.13.0)\n",
      "Requirement already satisfied: tinycss2 in c:\\users\\ineed\\appdata\\local\\programs\\python\\python311\\lib\\site-packages (from nbconvert>=5->notebook) (1.2.1)\n",
      "Requirement already satisfied: fastjsonschema in c:\\users\\ineed\\appdata\\local\\programs\\python\\python311\\lib\\site-packages (from nbformat->notebook) (2.16.2)\n",
      "Requirement already satisfied: jsonschema>=2.6 in c:\\users\\ineed\\appdata\\local\\programs\\python\\python311\\lib\\site-packages (from nbformat->notebook) (4.17.0)\n",
      "Requirement already satisfied: pywinpty>=1.1.0 in c:\\users\\ineed\\appdata\\local\\programs\\python\\python311\\lib\\site-packages (from terminado>=0.8.3->notebook) (2.0.9)\n",
      "Requirement already satisfied: argon2-cffi-bindings in c:\\users\\ineed\\appdata\\local\\programs\\python\\python311\\lib\\site-packages (from argon2-cffi->notebook) (21.2.0)\n",
      "Requirement already satisfied: debugpy>=1.0 in c:\\users\\ineed\\appdata\\roaming\\python\\python311\\site-packages (from ipykernel->notebook) (1.6.3)\n",
      "Requirement already satisfied: ipython>=7.23.1 in c:\\users\\ineed\\appdata\\roaming\\python\\python311\\site-packages (from ipykernel->notebook) (8.6.0)\n",
      "Requirement already satisfied: matplotlib-inline>=0.1 in c:\\users\\ineed\\appdata\\roaming\\python\\python311\\site-packages (from ipykernel->notebook) (0.1.6)\n",
      "Requirement already satisfied: psutil in c:\\users\\ineed\\appdata\\roaming\\python\\python311\\site-packages (from ipykernel->notebook) (5.9.4)\n",
      "Requirement already satisfied: backcall in c:\\users\\ineed\\appdata\\roaming\\python\\python311\\site-packages (from ipython>=7.23.1->ipykernel->notebook) (0.2.0)\n",
      "Requirement already satisfied: decorator in c:\\users\\ineed\\appdata\\roaming\\python\\python311\\site-packages (from ipython>=7.23.1->ipykernel->notebook) (5.1.1)\n",
      "Requirement already satisfied: jedi>=0.16 in c:\\users\\ineed\\appdata\\roaming\\python\\python311\\site-packages (from ipython>=7.23.1->ipykernel->notebook) (0.18.1)\n",
      "Requirement already satisfied: pickleshare in c:\\users\\ineed\\appdata\\roaming\\python\\python311\\site-packages (from ipython>=7.23.1->ipykernel->notebook) (0.7.5)\n",
      "Requirement already satisfied: prompt-toolkit<3.1.0,>3.0.1 in c:\\users\\ineed\\appdata\\roaming\\python\\python311\\site-packages (from ipython>=7.23.1->ipykernel->notebook) (3.0.32)\n",
      "Requirement already satisfied: stack-data in c:\\users\\ineed\\appdata\\roaming\\python\\python311\\site-packages (from ipython>=7.23.1->ipykernel->notebook) (0.6.0)\n",
      "Requirement already satisfied: colorama in c:\\users\\ineed\\appdata\\roaming\\python\\python311\\site-packages (from ipython>=7.23.1->ipykernel->notebook) (0.4.6)\n",
      "Requirement already satisfied: attrs>=17.4.0 in c:\\users\\ineed\\appdata\\local\\programs\\python\\python311\\lib\\site-packages (from jsonschema>=2.6->nbformat->notebook) (22.1.0)\n",
      "Requirement already satisfied: pyrsistent!=0.17.0,!=0.17.1,!=0.17.2,>=0.14.0 in c:\\users\\ineed\\appdata\\local\\programs\\python\\python311\\lib\\site-packages (from jsonschema>=2.6->nbformat->notebook) (0.19.2)\n",
      "Requirement already satisfied: anyio<4,>=3.1.0 in c:\\users\\ineed\\appdata\\local\\programs\\python\\python311\\lib\\site-packages (from jupyter-server>=1.8->nbclassic>=0.4.7->notebook) (3.6.2)\n",
      "Requirement already satisfied: websocket-client in c:\\users\\ineed\\appdata\\local\\programs\\python\\python311\\lib\\site-packages (from jupyter-server>=1.8->nbclassic>=0.4.7->notebook) (1.4.2)\n",
      "Requirement already satisfied: six>=1.5 in c:\\users\\ineed\\appdata\\roaming\\python\\python311\\site-packages (from python-dateutil>=2.8.2->jupyter-client>=5.3.4->notebook) (1.16.0)\n",
      "Requirement already satisfied: cffi>=1.0.1 in c:\\users\\ineed\\appdata\\local\\programs\\python\\python311\\lib\\site-packages (from argon2-cffi-bindings->argon2-cffi->notebook) (1.15.1)\n",
      "Requirement already satisfied: soupsieve>1.2 in c:\\users\\ineed\\appdata\\local\\programs\\python\\python311\\lib\\site-packages (from beautifulsoup4->nbconvert>=5->notebook) (2.3.2.post1)\n",
      "Requirement already satisfied: webencodings in c:\\users\\ineed\\appdata\\local\\programs\\python\\python311\\lib\\site-packages (from bleach->nbconvert>=5->notebook) (0.5.1)\n",
      "Requirement already satisfied: pyparsing!=3.0.5,>=2.0.2 in c:\\users\\ineed\\appdata\\roaming\\python\\python311\\site-packages (from packaging->nbconvert>=5->notebook) (3.0.9)\n",
      "Requirement already satisfied: idna>=2.8 in c:\\users\\ineed\\appdata\\local\\programs\\python\\python311\\lib\\site-packages (from anyio<4,>=3.1.0->jupyter-server>=1.8->nbclassic>=0.4.7->notebook) (3.4)\n",
      "Requirement already satisfied: sniffio>=1.1 in c:\\users\\ineed\\appdata\\local\\programs\\python\\python311\\lib\\site-packages (from anyio<4,>=3.1.0->jupyter-server>=1.8->nbclassic>=0.4.7->notebook) (1.3.0)\n",
      "Requirement already satisfied: pycparser in c:\\users\\ineed\\appdata\\local\\programs\\python\\python311\\lib\\site-packages (from cffi>=1.0.1->argon2-cffi-bindings->argon2-cffi->notebook) (2.21)\n",
      "Requirement already satisfied: parso<0.9.0,>=0.8.0 in c:\\users\\ineed\\appdata\\roaming\\python\\python311\\site-packages (from jedi>=0.16->ipython>=7.23.1->ipykernel->notebook) (0.8.3)\n",
      "Requirement already satisfied: wcwidth in c:\\users\\ineed\\appdata\\roaming\\python\\python311\\site-packages (from prompt-toolkit<3.1.0,>3.0.1->ipython>=7.23.1->ipykernel->notebook) (0.2.5)\n",
      "Requirement already satisfied: executing>=1.2.0 in c:\\users\\ineed\\appdata\\roaming\\python\\python311\\site-packages (from stack-data->ipython>=7.23.1->ipykernel->notebook) (1.2.0)\n",
      "Requirement already satisfied: asttokens>=2.1.0 in c:\\users\\ineed\\appdata\\roaming\\python\\python311\\site-packages (from stack-data->ipython>=7.23.1->ipykernel->notebook) (2.1.0)\n",
      "Requirement already satisfied: pure-eval in c:\\users\\ineed\\appdata\\roaming\\python\\python311\\site-packages (from stack-data->ipython>=7.23.1->ipykernel->notebook) (0.2.2)\n",
      "Note: you may need to restart the kernel to use updated packages.\n"
     ]
    },
    {
     "name": "stderr",
     "output_type": "stream",
     "text": [
      "\n",
      "[notice] A new release of pip available: 22.3 -> 22.3.1\n",
      "[notice] To update, run: python.exe -m pip install --upgrade pip\n"
     ]
    },
    {
     "name": "stdout",
     "output_type": "stream",
     "text": [
      "Requirement already satisfied: pandas in c:\\users\\ineed\\appdata\\local\\programs\\python\\python311\\lib\\site-packages (1.5.1)\n",
      "Requirement already satisfied: python-dateutil>=2.8.1 in c:\\users\\ineed\\appdata\\roaming\\python\\python311\\site-packages (from pandas) (2.8.2)\n",
      "Requirement already satisfied: pytz>=2020.1 in c:\\users\\ineed\\appdata\\local\\programs\\python\\python311\\lib\\site-packages (from pandas) (2022.6)\n",
      "Requirement already satisfied: numpy>=1.21.0 in c:\\users\\ineed\\appdata\\local\\programs\\python\\python311\\lib\\site-packages (from pandas) (1.23.4)\n",
      "Requirement already satisfied: six>=1.5 in c:\\users\\ineed\\appdata\\roaming\\python\\python311\\site-packages (from python-dateutil>=2.8.1->pandas) (1.16.0)\n",
      "Note: you may need to restart the kernel to use updated packages.\n"
     ]
    },
    {
     "name": "stderr",
     "output_type": "stream",
     "text": [
      "\n",
      "[notice] A new release of pip available: 22.3 -> 22.3.1\n",
      "[notice] To update, run: python.exe -m pip install --upgrade pip\n"
     ]
    },
    {
     "name": "stdout",
     "output_type": "stream",
     "text": [
      "Requirement already satisfied: matplotlib in c:\\users\\ineed\\appdata\\local\\programs\\python\\python311\\lib\\site-packages (3.6.2)\n",
      "Requirement already satisfied: contourpy>=1.0.1 in c:\\users\\ineed\\appdata\\local\\programs\\python\\python311\\lib\\site-packages (from matplotlib) (1.0.6)\n",
      "Requirement already satisfied: cycler>=0.10 in c:\\users\\ineed\\appdata\\local\\programs\\python\\python311\\lib\\site-packages (from matplotlib) (0.11.0)\n",
      "Requirement already satisfied: fonttools>=4.22.0 in c:\\users\\ineed\\appdata\\local\\programs\\python\\python311\\lib\\site-packages (from matplotlib) (4.38.0)\n",
      "Requirement already satisfied: kiwisolver>=1.0.1 in c:\\users\\ineed\\appdata\\local\\programs\\python\\python311\\lib\\site-packages (from matplotlib) (1.4.4)\n",
      "Requirement already satisfied: numpy>=1.19 in c:\\users\\ineed\\appdata\\local\\programs\\python\\python311\\lib\\site-packages (from matplotlib) (1.23.4)\n",
      "Requirement already satisfied: packaging>=20.0 in c:\\users\\ineed\\appdata\\roaming\\python\\python311\\site-packages (from matplotlib) (21.3)\n",
      "Requirement already satisfied: pillow>=6.2.0 in c:\\users\\ineed\\appdata\\local\\programs\\python\\python311\\lib\\site-packages (from matplotlib) (9.3.0)\n",
      "Requirement already satisfied: pyparsing>=2.2.1 in c:\\users\\ineed\\appdata\\roaming\\python\\python311\\site-packages (from matplotlib) (3.0.9)\n",
      "Requirement already satisfied: python-dateutil>=2.7 in c:\\users\\ineed\\appdata\\roaming\\python\\python311\\site-packages (from matplotlib) (2.8.2)\n",
      "Requirement already satisfied: six>=1.5 in c:\\users\\ineed\\appdata\\roaming\\python\\python311\\site-packages (from python-dateutil>=2.7->matplotlib) (1.16.0)\n",
      "Note: you may need to restart the kernel to use updated packages.\n"
     ]
    },
    {
     "name": "stderr",
     "output_type": "stream",
     "text": [
      "\n",
      "[notice] A new release of pip available: 22.3 -> 22.3.1\n",
      "[notice] To update, run: python.exe -m pip install --upgrade pip\n"
     ]
    },
    {
     "name": "stdout",
     "output_type": "stream",
     "text": [
      "Collecting openpyxl\n",
      "  Downloading openpyxl-3.0.10-py2.py3-none-any.whl (242 kB)\n",
      "     -------------------------------------- 242.1/242.1 kB 4.9 MB/s eta 0:00:00\n",
      "Collecting et-xmlfile\n",
      "  Downloading et_xmlfile-1.1.0-py3-none-any.whl (4.7 kB)\n",
      "Installing collected packages: et-xmlfile, openpyxl\n",
      "Successfully installed et-xmlfile-1.1.0 openpyxl-3.0.10\n",
      "Note: you may need to restart the kernel to use updated packages.\n"
     ]
    },
    {
     "name": "stderr",
     "output_type": "stream",
     "text": [
      "\n",
      "[notice] A new release of pip available: 22.3 -> 22.3.1\n",
      "[notice] To update, run: python.exe -m pip install --upgrade pip\n"
     ]
    },
    {
     "name": "stdout",
     "output_type": "stream",
     "text": [
      "Note: you may need to restart the kernel to use updated packages.\n"
     ]
    },
    {
     "name": "stderr",
     "output_type": "stream",
     "text": [
      "ERROR: Could not find a version that satisfies the requirement pylance (from versions: 0.0.2)\n",
      "ERROR: No matching distribution found for pylance\n",
      "\n",
      "[notice] A new release of pip available: 22.3 -> 22.3.1\n",
      "[notice] To update, run: python.exe -m pip install --upgrade pip\n"
     ]
    }
   ],
   "source": [
    "%pip install notebook\n",
    "%pip install pandas\n",
    "%pip install matplotlib\n",
    "%pip install openpyxl\n",
    "%pip install pylance\n"
   ]
  },
  {
   "cell_type": "code",
   "execution_count": 23,
   "id": "94284630",
   "metadata": {},
   "outputs": [],
   "source": [
    "#import pandas\n",
    "import matplotlib.pyplot as plt\n",
    "import pandas as pd\n",
    "import numpy"
   ]
  },
  {
   "cell_type": "code",
   "execution_count": 24,
   "id": "aee40c46",
   "metadata": {
    "scrolled": true
   },
   "outputs": [],
   "source": [
    "#Read in data from a local csv, excel file, json, or any other file type.\n",
    "# read in data with pandas and store as object\n",
    "df = pd.read_excel(\"C:\\\\Users\\\\ineed\\\\OneDrive\\\\Documents\\\\project\\\\final_project\\\\rep_flex.xlsx\")"
   ]
  },
  {
   "cell_type": "code",
   "execution_count": 25,
   "id": "96e42dc5",
   "metadata": {},
   "outputs": [
    {
     "name": "stdout",
     "output_type": "stream",
     "text": [
      "    job_function associate_name trained quality speed  trainer manager  \\\n",
      "0    maintenance          randy       y       y     y  charles   brown   \n",
      "1       money_in          randy       y       y     y   little   brown   \n",
      "2   transfer_out          randy       y       y     y   little   brown   \n",
      "3   new_accounts          randy       y       y     y   little   brown   \n",
      "4        central          randy       n      na    na       na   brown   \n",
      "5       classify          randy       n      na    na       na   brown   \n",
      "6    maintenance        mellisa       y       y     y   little   brown   \n",
      "7       money_in        mellisa       y       y     y   little   brown   \n",
      "8   transfer_out        mellisa       y       y     y   little   brown   \n",
      "9   new_accounts        mellisa       n      na    na       na   brown   \n",
      "10       central        mellisa       y       y     y   little   brown   \n",
      "11      classify        mellisa       n      na    na       na   brown   \n",
      "12   maintenance            jon       y       y     y   little   brown   \n",
      "13      money_in            jon       y       y     y  walters   brown   \n",
      "14  transfer_out            jon       n      na    na       na   brown   \n",
      "15  new_accounts            jon       n      na    na       na   brown   \n",
      "16       central            jon       n      na    na       na   brown   \n",
      "17      classify            jon       n      na    na       na   brown   \n",
      "18   maintenance          diane       y       y     y   little  harris   \n",
      "19      money_in          diane       y       y     y   little  harris   \n",
      "20  transfer_out          diane       n      na    na       na  harris   \n",
      "21  new_accounts          diane       y       y     n  wilburs  harris   \n",
      "22       central          diane       n      na    na       na  harris   \n",
      "23      classify          diane       y       y     y   little  harris   \n",
      "24   maintenance          carol       y       y     y   little  harris   \n",
      "25      money_in          carol       n      na    na       na  harris   \n",
      "26  transfer_out          carol       n      na    na       na  harris   \n",
      "27  new_accounts          carol       n      na    na       na  harris   \n",
      "28       central          carol       n      na    na       na  harris   \n",
      "29      classify          carol       n      na    na       na  harris   \n",
      "30   maintenance           beth       y       y     n   little  harris   \n",
      "31      money_in           beth       y       n     n  walters  harris   \n",
      "32  transfer_out           beth       n      na    na       na  harris   \n",
      "33  new_accounts           beth       y       y     y  wilburs  harris   \n",
      "34       central           beth       n      na    na       na  harris   \n",
      "35      classify           beth       y       y     y   little  harris   \n",
      "\n",
      "      manager_email city  training_hours  \n",
      "0    brown@work.com  abq              84  \n",
      "1    brown@work.com  abq              11  \n",
      "2    brown@work.com  abq              58  \n",
      "3    brown@work.com  abq              29  \n",
      "4    brown@work.com  abq               0  \n",
      "5    brown@work.com  abq               0  \n",
      "6    brown@work.com  abq              71  \n",
      "7    brown@work.com  abq              46  \n",
      "8    brown@work.com  abq              51  \n",
      "9    brown@work.com  abq               0  \n",
      "10   brown@work.com  abq              44  \n",
      "11   brown@work.com  abq               0  \n",
      "12   brown@work.com  abq              55  \n",
      "13   brown@work.com  abq              42  \n",
      "14   brown@work.com  abq               0  \n",
      "15   brown@work.com  abq               0  \n",
      "16   brown@work.com  abq               0  \n",
      "17   brown@work.com  abq               0  \n",
      "18  harris@work.com  cvg              52  \n",
      "19  harris@work.com  cvg              25  \n",
      "20  harris@work.com  cvg               0  \n",
      "21  harris@work.com  cvg               8  \n",
      "22  harris@work.com  cvg               0  \n",
      "23  harris@work.com  cvg             102  \n",
      "24  harris@work.com  cvg              25  \n",
      "25  harris@work.com  cvg               0  \n",
      "26  harris@work.com  cvg               0  \n",
      "27  harris@work.com  cvg               0  \n",
      "28  harris@work.com  cvg               0  \n",
      "29  harris@work.com  cvg               0  \n",
      "30  harris@work.com  cvg              10  \n",
      "31  harris@work.com  cvg              44  \n",
      "32  harris@work.com  cvg               0  \n",
      "33  harris@work.com  cvg              25  \n",
      "34  harris@work.com  cvg               0  \n",
      "35  harris@work.com  cvg              89  \n"
     ]
    }
   ],
   "source": [
    "#print df \n",
    "print (df)"
   ]
  },
  {
   "cell_type": "code",
   "execution_count": 26,
   "id": "3a4466a8",
   "metadata": {},
   "outputs": [
    {
     "name": "stdout",
     "output_type": "stream",
     "text": [
      "    job_function associate_name trained quality speed  trainer manager  \\\n",
      "0    maintenance          randy       y       y     y  charles   brown   \n",
      "1       money_in          randy       y       y     y   little   brown   \n",
      "2   transfer_out          randy       y       y     y   little   brown   \n",
      "3   new_accounts          randy       y       y     y   little   brown   \n",
      "6    maintenance        mellisa       y       y     y   little   brown   \n",
      "7       money_in        mellisa       y       y     y   little   brown   \n",
      "8   transfer_out        mellisa       y       y     y   little   brown   \n",
      "10       central        mellisa       y       y     y   little   brown   \n",
      "12   maintenance            jon       y       y     y   little   brown   \n",
      "13      money_in            jon       y       y     y  walters   brown   \n",
      "18   maintenance          diane       y       y     y   little  harris   \n",
      "19      money_in          diane       y       y     y   little  harris   \n",
      "21  new_accounts          diane       y       y     n  wilburs  harris   \n",
      "23      classify          diane       y       y     y   little  harris   \n",
      "24   maintenance          carol       y       y     y   little  harris   \n",
      "30   maintenance           beth       y       y     n   little  harris   \n",
      "31      money_in           beth       y       n     n  walters  harris   \n",
      "33  new_accounts           beth       y       y     y  wilburs  harris   \n",
      "35      classify           beth       y       y     y   little  harris   \n",
      "\n",
      "      manager_email city  training_hours  \n",
      "0    brown@work.com  abq              84  \n",
      "1    brown@work.com  abq              11  \n",
      "2    brown@work.com  abq              58  \n",
      "3    brown@work.com  abq              29  \n",
      "6    brown@work.com  abq              71  \n",
      "7    brown@work.com  abq              46  \n",
      "8    brown@work.com  abq              51  \n",
      "10   brown@work.com  abq              44  \n",
      "12   brown@work.com  abq              55  \n",
      "13   brown@work.com  abq              42  \n",
      "18  harris@work.com  cvg              52  \n",
      "19  harris@work.com  cvg              25  \n",
      "21  harris@work.com  cvg               8  \n",
      "23  harris@work.com  cvg             102  \n",
      "24  harris@work.com  cvg              25  \n",
      "30  harris@work.com  cvg              10  \n",
      "31  harris@work.com  cvg              44  \n",
      "33  harris@work.com  cvg              25  \n",
      "35  harris@work.com  cvg              89  \n"
     ]
    }
   ],
   "source": [
    "#Use built-in pandas or numpy functions to do things like remove 0’s and null values where they don’t belong in your dataset. \n",
    "#clean data\n",
    "#this will assure tath asslociates that are not trained with not be considered for this job juntion\n",
    "df = df.drop (df[df.training_hours < 1 ].index)\n",
    "print (df)"
   ]
  },
  {
   "cell_type": "code",
   "execution_count": 44,
   "id": "9de54c2a",
   "metadata": {},
   "outputs": [
    {
     "data": {
      "image/png": "[encoded data removed]",
      "text/plain": [
       "<Figure size 800x550 with 1 Axes>"
      ]
     },
     "metadata": {},
     "output_type": "display_data"
    }
   ],
   "source": [
    "x = list(var['associate_name'])\n",
    "y = list(var['training_hours'])\n",
    "import matplotlib.pyplot as plt\n",
    "# plot a scatter plot\n",
    "plt.scatter(x, y)\n",
    "# set axis lables\n",
    "plt.xlabel(\"associate_name\")\n",
    "plt.ylabel(\"training_hours\")\n",
    "# set chart title\n",
    "plt.title(\"traing hours per associate\")\n",
    "plt.show()"
   ]
  },
  {
   "cell_type": "code",
   "execution_count": 36,
   "id": "2a63603b",
   "metadata": {},
   "outputs": [
    {
     "name": "stdout",
     "output_type": "stream",
     "text": [
      "carol can help in\n",
      "24    maintenance\n",
      "Name: job_function, dtype: object\n"
     ]
    }
   ],
   "source": [
    "df = pd.read_excel(\"C:\\\\Users\\\\ineed\\\\OneDrive\\\\Documents\\\\project\\\\final_project\\\\rep_flex.xlsx\")\n",
    "selected_person = input(\"enter a name:\") \n",
    "df = df.loc[df['associate_name']==selected_person, :]\n",
    "df = df.loc[df['trained']=='y',:]\n",
    "print(selected_person +\" \" \"can help in\")\n",
    "print(df['job_function'])\n"
   ]
  }
 ],
 "metadata": {
  "kernelspec": {
   "display_name": "Python 3.11.0 64-bit",
   "language": "python",
   "name": "python3"
  },
  "language_info": {
   "codemirror_mode": {
    "name": "ipython",
    "version": 3
   },
   "file_extension": ".py",
   "mimetype": "text/x-python",
   "name": "python",
   "nbconvert_exporter": "python",
   "pygments_lexer": "ipython3",
   "version": "3.11.0"
  },
  "vscode": {
   "interpreter": {
    "hash": "c8ef35a4afe645494ef18e20dca90271731ac8583e6638c4d03d8c72e33d58c7"
   }
  }
 },
 "nbformat": 4,
 "nbformat_minor": 5
}
