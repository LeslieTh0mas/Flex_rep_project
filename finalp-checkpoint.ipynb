{
 "cells": [
  {
   "cell_type": "code",
   "execution_count": 1,
   "id": "94284630",
   "metadata": {},
   "outputs": [
    {
     "name": "stdout",
     "output_type": "stream",
     "text": [
      "    job_function associate_name trained quality speed  trainer manager  \\\n",
      "0    maintenance          randy       y       y     y  charles   brown   \n",
      "1       money_in          randy       y       y     y   little   brown   \n",
      "2   transfer_out          randy       y       y     y   little   brown   \n",
      "3   new_accounts          randy       y       y     y   little   brown   \n",
      "6    maintenance        mellisa       y       y     y   little   brown   \n",
      "7       money_in        mellisa       y       y     y   little   brown   \n",
      "8   transfer_out        mellisa       y       y     y   little   brown   \n",
      "10       central        mellisa       y       y     y   little   brown   \n",
      "12   maintenance            jon       y       y     y   little   brown   \n",
      "13      money_in            jon       y       y     y  walters   brown   \n",
      "18   maintenance          diane       y       y     y   little  harris   \n",
      "19      money_in          diane       y       y     y   little  harris   \n",
      "21  new_accounts          diane       y       y     n  wilburs  harris   \n",
      "23      classify          diane       y       y     y   little  harris   \n",
      "24   maintenance          carol       y       y     y   little  harris   \n",
      "30   maintenance           beth       y       y     n   little  harris   \n",
      "31      money_in           beth       y       n     n  walters  harris   \n",
      "33  new_accounts           beth       y       y     y  wilburs  harris   \n",
      "35      classify           beth       y       y     y   little  harris   \n",
      "\n",
      "      manager_email city  training_hours  \n",
      "0    brown@work.com  abq              84  \n",
      "1    brown@work.com  abq              11  \n",
      "2    brown@work.com  abq              58  \n",
      "3    brown@work.com  abq              29  \n",
      "6    brown@work.com  abq              71  \n",
      "7    brown@work.com  abq              46  \n",
      "8    brown@work.com  abq              51  \n",
      "10   brown@work.com  abq              44  \n",
      "12   brown@work.com  abq              55  \n",
      "13   brown@work.com  abq              42  \n",
      "18  harris@work.com  cvg              52  \n",
      "19  harris@work.com  cvg              25  \n",
      "21  harris@work.com  cvg               8  \n",
      "23  harris@work.com  cvg             102  \n",
      "24  harris@work.com  cvg              25  \n",
      "30  harris@work.com  cvg              10  \n",
      "31  harris@work.com  cvg              44  \n",
      "33  harris@work.com  cvg              25  \n",
      "35  harris@work.com  cvg              89  \n"
     ]
    }
   ],
   "source": [
    "#import pandas\n",
    "import matplotlib.pyplot as plt\n",
    "import pandas as pd\n",
    "import numpy as np\n",
    "import openpyxl\n",
    "#Read in data from a local csv, excel file, json, or any other file type.\n",
    "# read in data with pandas and store as object\n",
    "df = pd.read_excel(\"C:\\\\Users\\\\ineed\\\\OneDrive\\\\Documents\\\\project\\\\final_project\\\\rep_flex.xlsx\")\n",
    "#Use built-in pandas or numpy functions to do things like remove 0’s and null values where they don’t belong in your dataset. \n",
    "#clean data\n",
    "#this will assure thatasslociates that are not trained with not be considered for this job juntion\n",
    "df = df.drop (df[df.training_hours < 1 ].index)\n",
    "print (df)\n",
    "\n"
   ]
  },
  {
   "cell_type": "code",
   "execution_count": 2,
   "id": "19dec88f",
   "metadata": {},
   "outputs": [
    {
     "name": "stdout",
     "output_type": "stream",
     "text": [
      "randy can help in\n",
      "0     maintenance\n",
      "1        money_in\n",
      "2    transfer_out\n",
      "3    new_accounts\n",
      "Name: job_function, dtype: object\n"
     ]
    }
   ],
   "source": [
    "df = pd.read_excel(\"C:\\\\Users\\\\ineed\\\\OneDrive\\\\Documents\\\\project\\\\final_project\\\\rep_flex.xlsx\")\n",
    "selected_person = input(\"enter a name:\") \n",
    "df = df.loc[df['associate_name']==selected_person, :]\n",
    "df = df.loc[df['trained']=='y',:]\n",
    "print(selected_person +\" \" \"can help in\")\n",
    "print(df['job_function'])\n",
    "\n"
   ]
  },
  {
   "cell_type": "code",
   "execution_count": 3,
   "id": "3bc3dcb1",
   "metadata": {},
   "outputs": [
    {
     "name": "stdout",
     "output_type": "stream",
     "text": [
      "Sum:  871\n",
      "Mean:  24.194444444444443\n",
      "Maximum:  102\n",
      "Minimum:  0\n"
     ]
    }
   ],
   "source": [
    "\n",
    "df = pd. read_excel (\"C:\\\\Users\\\\ineed\\\\OneDrive\\\\Documents\\\\project\\\\final_project\\\\rep_flex.xlsx\")\n",
    "print(\"Sum: \", df [\"training_hours\"].sum()) \n",
    "print(\"Mean: \", df [\"training_hours\"]. mean ()) \n",
    "print(\"Maximum: \", df [\"training_hours\"].max()) \n",
    "print(\"Minimum: \", df [\"training_hours\"].min())"
   ]
  },
  {
   "cell_type": "code",
   "execution_count": 25,
   "id": "15b5d36d",
   "metadata": {},
   "outputs": [
    {
     "name": "stdout",
     "output_type": "stream",
     "text": [
      "little has trained \n",
      "1       randy\n",
      "2       randy\n",
      "3       randy\n",
      "6     mellisa\n",
      "7     mellisa\n",
      "8     mellisa\n",
      "10    mellisa\n",
      "12        jon\n",
      "18      diane\n",
      "19      diane\n",
      "23      diane\n",
      "24      carol\n",
      "30       beth\n",
      "35       beth\n",
      "Name: associate_name, dtype: object\n"
     ]
    }
   ],
   "source": [
    "df = pd.read_excel(\"C:\\\\Users\\\\ineed\\\\OneDrive\\\\Documents\\\\project\\\\final_project\\\\rep_flex.xlsx\")\n",
    "selected_person = input(\"enter a name:\") \n",
    "df = df.loc[df['trainer']==selected_person, :]\n",
    "df = df.loc[df['trained']=='y',:]\n",
    "print(selected_person +\" \" \"has trained\" \" \")\n",
    "print(df['associate_name'])\n",
    "\n"
   ]
  }
 ],
 "metadata": {
  "kernelspec": {
   "display_name": "Python 3.11.0 64-bit",
   "language": "python",
   "name": "python3"
  },
  "language_info": {
   "codemirror_mode": {
    "name": "ipython",
    "version": 3
   },
   "file_extension": ".py",
   "mimetype": "text/x-python",
   "name": "python",
   "nbconvert_exporter": "python",
   "pygments_lexer": "ipython3",
   "version": "3.11.0"
  },
  "vscode": {
   "interpreter": {
    "hash": "c8ef35a4afe645494ef18e20dca90271731ac8583e6638c4d03d8c72e33d58c7"
   }
  }
 },
 "nbformat": 4,
 "nbformat_minor": 5
}
